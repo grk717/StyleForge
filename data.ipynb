{
 "cells": [
  {
   "cell_type": "code",
   "execution_count": 16,
   "metadata": {},
   "outputs": [],
   "source": [
    "from torch.utils.data import Dataset, DataLoader\n",
    "from torchvision.transforms.functional import crop\n",
    "from torchvision.io import read_image\n",
    "import pandas as pd\n",
    "from tqdm import tqdm\n",
    "import os\n",
    "import json\n",
    "from PIL import Image\n",
    "from metric_learning.datasets import split_train_test\n",
    "\n",
    "seed = 123\n",
    "train_classes_frac = 0.7\n",
    "num_epochs = 100"
   ]
  },
  {
   "cell_type": "markdown",
   "metadata": {},
   "source": [
    "# Dataset preparation\n",
    "\n",
    "First we convert a bunch of json's to a pandas dataframe"
   ]
  },
  {
   "cell_type": "code",
   "execution_count": 17,
   "metadata": {},
   "outputs": [],
   "source": [
    "from metric_learning.datasets import convert_dataset\n",
    "#convert_dataset(ann_dir=\"data/validation/annos/\", output_path=\"deepfashion_val.csv\")\n",
    "#convert_dataset(ann_dir=\"data/train/annos/\", output_path=\"deepfashion_train.csv\")"
   ]
  },
  {
   "attachments": {},
   "cell_type": "markdown",
   "metadata": {},
   "source": [
    "Now we create a dataset class"
   ]
  },
  {
   "cell_type": "code",
   "execution_count": 18,
   "metadata": {},
   "outputs": [],
   "source": [
    "class DeepFashionDataset(Dataset):\n",
    "    def __init__(self, df, transform=None, target_transform=None):\n",
    "        self.df = df\n",
    "        self.transform = transform\n",
    "        self.target_transform = target_transform\n",
    "\n",
    "    def __len__(self):\n",
    "        return len(self.df)\n",
    "\n",
    "    def __getitem__(self, idx):\n",
    "        row = self.df.iloc[[idx]]\n",
    "        image = Image.open(row['image_path'].values[0])\n",
    "        bbox = row['x_1'].values[0], row['x_2'].values[0], row['y_1'].values[0], row['y_2'].values[0]\n",
    "        cropped_image = image.crop((bbox[0], bbox[2], bbox[1], bbox[3]))\n",
    "        label = row['label'].values[0]\n",
    "        if self.transform:\n",
    "            cropped_image = self.transform(cropped_image)\n",
    "        if self.target_transform:\n",
    "            label = self.target_transform(label)\n",
    "        return cropped_image, label"
   ]
  },
  {
   "cell_type": "code",
   "execution_count": 19,
   "metadata": {},
   "outputs": [
    {
     "name": "stderr",
     "output_type": "stream",
     "text": [
      "C:\\Users\\grk\\AppData\\Local\\Temp\\ipykernel_1376\\3858076790.py:11: SettingWithCopyWarning: \n",
      "A value is trying to be set on a copy of a slice from a DataFrame.\n",
      "Try using .loc[row_indexer,col_indexer] = value instead\n",
      "\n",
      "See the caveats in the documentation: https://pandas.pydata.org/pandas-docs/stable/user_guide/indexing.html#returning-a-view-versus-a-copy\n",
      "  df_train['label'] = df_train.groupby(['label']).ngroup()\n"
     ]
    }
   ],
   "source": [
    "# read dataframes\n",
    "#df_train = pd.read_csv(\"deepfashion_train.csv\")\n",
    "#df_val = pd.read_csv(\"deepfashion_val.csv\")\n",
    "\n",
    "\n",
    "# for quick tests we use one dataframe and split it into test and val\n",
    "df = pd.read_csv(\"deepfashion_val.csv\")\n",
    "df_train, df_val = split_train_test(df, train_classes_frac, seed)\n",
    "num_classes_train = len(df_train.label.unique())\n",
    "# reassign class numbers so it doesn't go over num_classes_train\n",
    "df_train['label'] = df_train.groupby(['label']).ngroup()\n"
   ]
  },
  {
   "attachments": {},
   "cell_type": "markdown",
   "metadata": {},
   "source": [
    "# Import stuff"
   ]
  },
  {
   "cell_type": "code",
   "execution_count": 20,
   "metadata": {},
   "outputs": [],
   "source": [
    "import torch\n",
    "import torch.nn as nn\n",
    "import torch.nn.functional as F\n",
    "import torch.optim as optim\n",
    "from torch.utils.data import Subset\n",
    "\n",
    "### MNIST code originally from https://github.com/pytorch/examples/blob/master/mnist/main.py ###\n",
    "from torchvision import datasets, transforms\n",
    "\n",
    "from pytorch_metric_learning import distances, losses, miners, reducers, testers\n",
    "from pytorch_metric_learning.utils.accuracy_calculator import AccuracyCalculator"
   ]
  },
  {
   "attachments": {},
   "cell_type": "markdown",
   "metadata": {},
   "source": [
    "# Test model declaration"
   ]
  },
  {
   "cell_type": "code",
   "execution_count": 21,
   "metadata": {},
   "outputs": [],
   "source": [
    "import torch.nn as nn\n",
    "\n",
    "class Net(nn.Module):\n",
    "    def __init__(self):\n",
    "        super(Net, self).__init__()\n",
    "        self.conv1 = nn.Conv2d(3, 32, 3, 2, 1)\n",
    "        self.conv2 = nn.Conv2d(32, 64, 3, 2, 1)\n",
    "        self.conv3 = nn.Conv2d(64, 128, 3, 2, 1)\n",
    "        self.conv4 = nn.Conv2d(128, 256, 3, 2, 1)\n",
    "        self.dropout1 = nn.Dropout2d(0.25)\n",
    "        self.fc1 = nn.Linear(65536, 512)\n",
    "\n",
    "    def forward(self, x):\n",
    "        x = self.conv1(x)\n",
    "        x = F.relu(x)\n",
    "        x = self.conv2(x)\n",
    "        x = F.relu(x)\n",
    "        x = self.conv3(x)\n",
    "        x = F.relu(x)\n",
    "        x = self.conv4(x)\n",
    "        x = F.relu(x)\n",
    "        x = self.dropout1(x)\n",
    "        x = torch.flatten(x, 1)\n",
    "        x = self.fc1(x)\n",
    "        return x"
   ]
  },
  {
   "attachments": {},
   "cell_type": "markdown",
   "metadata": {},
   "source": [
    "training"
   ]
  },
  {
   "cell_type": "code",
   "execution_count": 22,
   "metadata": {},
   "outputs": [],
   "source": [
    "import torch\n",
    "import torch.nn.functional as F\n",
    "import torch.optim as optim\n",
    "from torchvision import datasets, transforms\n",
    "\n",
    "from pytorch_metric_learning import losses, testers\n",
    "from pytorch_metric_learning.utils.accuracy_calculator import AccuracyCalculator\n",
    "\n",
    "\n",
    "def train(model, loss_func, device, train_loader, optimizer, loss_optimizer, epoch):\n",
    "    model.train()\n",
    "    for batch_idx, (data, labels) in enumerate(train_loader):\n",
    "        data, labels = data.to(device), labels.to(device)\n",
    "        optimizer.zero_grad()\n",
    "        loss_optimizer.zero_grad()\n",
    "        embeddings = model(data)\n",
    "        loss = loss_func(embeddings, labels)\n",
    "        loss.backward()\n",
    "        optimizer.step()\n",
    "        loss_optimizer.step()\n",
    "        if batch_idx % 100 == 0:\n",
    "            print(\"Epoch {} Iteration {}: Loss = {}\".format(epoch, batch_idx, loss))\n",
    "\n",
    "\n",
    "def get_all_embeddings(dataset, model):\n",
    "    tester = testers.BaseTester(dataloader_num_workers=0, batch_size=batch_size)\n",
    "    return tester.get_all_embeddings(dataset, model)\n",
    "\n",
    "\n",
    "### compute accuracy using AccuracyCalculator from pytorch-metric-learning ###\n",
    "def test(query_dataset, retrieval_dataset, model, accuracy_calculator):\n",
    "    query_embeddings, query_labels = get_all_embeddings(query_dataset, model)\n",
    "    retrieval_embeddings, retrieval_labels = get_all_embeddings(retrieval_dataset, model)\n",
    "    query_labels = query_labels.squeeze(1)\n",
    "    retrieval_labels = retrieval_labels.squeeze(1)\n",
    "    print(\"Computing accuracy\")\n",
    "    accuracies = accuracy_calculator.get_accuracy(\n",
    "        query_embeddings, query_labels, retrieval_embeddings, retrieval_labels, False\n",
    "    )\n",
    "    print(\"Test set accuracy (Precision@1) = {}\".format(accuracies[\"precision_at_1\"]))\n",
    "\n",
    "\n",
    "device = torch.device(\"cuda\")\n",
    "\n",
    "train_transform = transforms.Compose(\n",
    "    [\n",
    "        transforms.Resize((256, 256)),\n",
    "        transforms.RandomHorizontalFlip(0.5),\n",
    "        transforms.ToTensor(),\n",
    "        transforms.Normalize(mean=[0.485, 0.456, 0.406], std=[0.229, 0.224, 0.225]),\n",
    "    ]\n",
    ")\n",
    "\n",
    "val_transform = transforms.Compose(\n",
    "    [\n",
    "        transforms.Resize((256, 256)),\n",
    "        transforms.ToTensor(),\n",
    "        transforms.Normalize(mean=[0.485, 0.456, 0.406], std=[0.229, 0.224, 0.225]),\n",
    "    ]\n",
    ")\n",
    "\n",
    "batch_size = 64\n",
    "\n",
    "\n",
    "train_dataset = DeepFashionDataset(df_train, transform=train_transform)\n",
    "val_dataset = DeepFashionDataset(df_val, transform=val_transform)\n",
    "# we need to split val dataset for query and retrieval sets\n",
    "# let's just take evens and odds for the first test\n",
    "#!!!!!!!!!!!!!!!!! SAME CLASS SHOULD BE IN BOTH SETS\n",
    "evens = list(range(0, len(val_dataset), 2))\n",
    "odds = list(range(1, len(val_dataset), 2))\n",
    "query_dataset = Subset(val_dataset, evens)\n",
    "retrieval_dataset = Subset(val_dataset, odds)\n",
    "\n",
    "\n",
    "train_loader = torch.utils.data.DataLoader(\n",
    "    train_dataset, batch_size=batch_size, shuffle=True\n",
    ")\n",
    "\n",
    "model = Net().to(device)\n",
    "optimizer = optim.Adam(model.parameters(), lr=0.01)\n",
    "\n",
    "\n",
    "loss_func = losses.SubCenterArcFaceLoss(num_classes=num_classes_train, embedding_size=512).to(device)\n",
    "loss_optimizer = torch.optim.Adam(loss_func.parameters(), lr=1e-4)\n",
    "accuracy_calculator = AccuracyCalculator(include=(\"precision_at_1\",), k=1)"
   ]
  },
  {
   "cell_type": "code",
   "execution_count": 23,
   "metadata": {},
   "outputs": [
    {
     "name": "stdout",
     "output_type": "stream",
     "text": [
      "Epoch 1 Iteration 0: Loss = 41.346702575683594\n",
      "Epoch 1 Iteration 100: Loss = 39.95802307128906\n",
      "Epoch 1 Iteration 200: Loss = 39.79364776611328\n",
      "Epoch 1 Iteration 300: Loss = 39.47627258300781\n"
     ]
    },
    {
     "name": "stderr",
     "output_type": "stream",
     "text": [
      "100%|██████████| 87/87 [00:26<00:00,  3.27it/s]\n",
      "100%|██████████| 87/87 [00:27<00:00,  3.19it/s]\n"
     ]
    },
    {
     "name": "stdout",
     "output_type": "stream",
     "text": [
      "Computing accuracy\n",
      "Test set accuracy (Precision@1) = 0.2129475051010944\n",
      "Epoch 2 Iteration 0: Loss = 38.889488220214844\n",
      "Epoch 2 Iteration 100: Loss = 38.684051513671875\n",
      "Epoch 2 Iteration 200: Loss = 38.68219757080078\n",
      "Epoch 2 Iteration 300: Loss = 38.705047607421875\n"
     ]
    },
    {
     "name": "stderr",
     "output_type": "stream",
     "text": [
      "100%|██████████| 87/87 [00:26<00:00,  3.25it/s]\n",
      "100%|██████████| 87/87 [00:26<00:00,  3.31it/s]\n"
     ]
    },
    {
     "name": "stdout",
     "output_type": "stream",
     "text": [
      "Computing accuracy\n",
      "Test set accuracy (Precision@1) = 0.24522352068261916\n",
      "Epoch 3 Iteration 0: Loss = 38.027671813964844\n",
      "Epoch 3 Iteration 100: Loss = 38.08642578125\n",
      "Epoch 3 Iteration 200: Loss = 38.184871673583984\n",
      "Epoch 3 Iteration 300: Loss = 37.71780776977539\n"
     ]
    },
    {
     "name": "stderr",
     "output_type": "stream",
     "text": [
      "100%|██████████| 87/87 [00:26<00:00,  3.24it/s]\n",
      "100%|██████████| 87/87 [00:26<00:00,  3.26it/s]\n"
     ]
    },
    {
     "name": "stdout",
     "output_type": "stream",
     "text": [
      "Computing accuracy\n",
      "Test set accuracy (Precision@1) = 0.24578000370988684\n",
      "Epoch 4 Iteration 0: Loss = 37.16380310058594\n",
      "Epoch 4 Iteration 100: Loss = 37.05862808227539\n",
      "Epoch 4 Iteration 200: Loss = 37.454078674316406\n",
      "Epoch 4 Iteration 300: Loss = 36.28661346435547\n"
     ]
    },
    {
     "name": "stderr",
     "output_type": "stream",
     "text": [
      "100%|██████████| 87/87 [00:26<00:00,  3.30it/s]\n",
      "100%|██████████| 87/87 [00:26<00:00,  3.27it/s]\n"
     ]
    },
    {
     "name": "stdout",
     "output_type": "stream",
     "text": [
      "Computing accuracy\n",
      "Test set accuracy (Precision@1) = 0.2416991281765906\n",
      "Epoch 5 Iteration 0: Loss = 35.91856384277344\n",
      "Epoch 5 Iteration 100: Loss = 35.11378479003906\n",
      "Epoch 5 Iteration 200: Loss = 33.5833740234375\n",
      "Epoch 5 Iteration 300: Loss = 35.372276306152344\n"
     ]
    },
    {
     "name": "stderr",
     "output_type": "stream",
     "text": [
      "100%|██████████| 87/87 [00:26<00:00,  3.29it/s]\n",
      "100%|██████████| 87/87 [00:26<00:00,  3.31it/s]\n"
     ]
    },
    {
     "name": "stdout",
     "output_type": "stream",
     "text": [
      "Computing accuracy\n",
      "Test set accuracy (Precision@1) = 0.2374327583008718\n",
      "Epoch 6 Iteration 0: Loss = 31.227691650390625\n",
      "Epoch 6 Iteration 100: Loss = 30.70168113708496\n",
      "Epoch 6 Iteration 200: Loss = 31.28127670288086\n",
      "Epoch 6 Iteration 300: Loss = 31.483135223388672\n"
     ]
    },
    {
     "name": "stderr",
     "output_type": "stream",
     "text": [
      "100%|██████████| 87/87 [00:26<00:00,  3.26it/s]\n",
      "100%|██████████| 87/87 [00:26<00:00,  3.35it/s]\n"
     ]
    },
    {
     "name": "stdout",
     "output_type": "stream",
     "text": [
      "Computing accuracy\n",
      "Test set accuracy (Precision@1) = 0.23502133184937857\n",
      "Epoch 7 Iteration 0: Loss = 29.58222007751465\n",
      "Epoch 7 Iteration 100: Loss = 31.23941421508789\n",
      "Epoch 7 Iteration 200: Loss = 29.174522399902344\n",
      "Epoch 7 Iteration 300: Loss = 30.627513885498047\n"
     ]
    },
    {
     "name": "stderr",
     "output_type": "stream",
     "text": [
      "100%|██████████| 87/87 [00:26<00:00,  3.30it/s]\n",
      "100%|██████████| 87/87 [00:26<00:00,  3.31it/s]\n"
     ]
    },
    {
     "name": "stdout",
     "output_type": "stream",
     "text": [
      "Computing accuracy\n",
      "Test set accuracy (Precision@1) = 0.22964199591912446\n",
      "Epoch 8 Iteration 0: Loss = 25.739913940429688\n",
      "Epoch 8 Iteration 100: Loss = 25.437551498413086\n",
      "Epoch 8 Iteration 200: Loss = 25.78877067565918\n",
      "Epoch 8 Iteration 300: Loss = 28.750572204589844\n"
     ]
    },
    {
     "name": "stderr",
     "output_type": "stream",
     "text": [
      "100%|██████████| 87/87 [00:25<00:00,  3.44it/s]\n",
      "100%|██████████| 87/87 [00:25<00:00,  3.37it/s]\n"
     ]
    },
    {
     "name": "stdout",
     "output_type": "stream",
     "text": [
      "Computing accuracy\n",
      "Test set accuracy (Precision@1) = 0.22203672787979964\n",
      "Epoch 9 Iteration 0: Loss = 24.651775360107422\n",
      "Epoch 9 Iteration 100: Loss = 23.819618225097656\n",
      "Epoch 9 Iteration 200: Loss = 24.364696502685547\n",
      "Epoch 9 Iteration 300: Loss = 24.459848403930664\n"
     ]
    },
    {
     "name": "stderr",
     "output_type": "stream",
     "text": [
      "100%|██████████| 87/87 [00:26<00:00,  3.30it/s]\n",
      "100%|██████████| 87/87 [00:26<00:00,  3.33it/s]\n"
     ]
    },
    {
     "name": "stdout",
     "output_type": "stream",
     "text": [
      "Computing accuracy\n",
      "Test set accuracy (Precision@1) = 0.21906881840103876\n",
      "Epoch 10 Iteration 0: Loss = 20.887813568115234\n",
      "Epoch 10 Iteration 100: Loss = 20.36744499206543\n",
      "Epoch 10 Iteration 200: Loss = 20.303253173828125\n",
      "Epoch 10 Iteration 300: Loss = 23.39628791809082\n"
     ]
    },
    {
     "name": "stderr",
     "output_type": "stream",
     "text": [
      "100%|██████████| 87/87 [00:26<00:00,  3.32it/s]\n",
      "100%|██████████| 87/87 [00:26<00:00,  3.26it/s]\n"
     ]
    },
    {
     "name": "stdout",
     "output_type": "stream",
     "text": [
      "Computing accuracy\n",
      "Test set accuracy (Precision@1) = 0.21517343721016507\n",
      "Epoch 11 Iteration 0: Loss = 18.847213745117188\n",
      "Epoch 11 Iteration 100: Loss = 21.35409927368164\n",
      "Epoch 11 Iteration 200: Loss = 18.769474029541016\n",
      "Epoch 11 Iteration 300: Loss = 18.657039642333984\n"
     ]
    },
    {
     "name": "stderr",
     "output_type": "stream",
     "text": [
      "100%|██████████| 87/87 [00:26<00:00,  3.29it/s]\n",
      "100%|██████████| 87/87 [00:26<00:00,  3.27it/s]\n"
     ]
    },
    {
     "name": "stdout",
     "output_type": "stream",
     "text": [
      "Computing accuracy\n",
      "Test set accuracy (Precision@1) = 0.21035058430717862\n",
      "Epoch 12 Iteration 0: Loss = 16.693157196044922\n",
      "Epoch 12 Iteration 100: Loss = 18.938369750976562\n",
      "Epoch 12 Iteration 200: Loss = 16.474470138549805\n",
      "Epoch 12 Iteration 300: Loss = 20.54555320739746\n"
     ]
    },
    {
     "name": "stderr",
     "output_type": "stream",
     "text": [
      "100%|██████████| 87/87 [00:26<00:00,  3.32it/s]\n",
      "100%|██████████| 87/87 [00:26<00:00,  3.29it/s]\n"
     ]
    },
    {
     "name": "stdout",
     "output_type": "stream",
     "text": [
      "Computing accuracy\n",
      "Test set accuracy (Precision@1) = 0.2027453162678538\n",
      "Epoch 13 Iteration 0: Loss = 16.238588333129883\n",
      "Epoch 13 Iteration 100: Loss = 16.283220291137695\n",
      "Epoch 13 Iteration 200: Loss = 16.766033172607422\n",
      "Epoch 13 Iteration 300: Loss = 17.459884643554688\n"
     ]
    },
    {
     "name": "stderr",
     "output_type": "stream",
     "text": [
      "100%|██████████| 87/87 [00:26<00:00,  3.32it/s]\n",
      "100%|██████████| 87/87 [00:27<00:00,  3.21it/s]\n"
     ]
    },
    {
     "name": "stdout",
     "output_type": "stream",
     "text": [
      "Computing accuracy\n",
      "Test set accuracy (Precision@1) = 0.2033017992951215\n",
      "Epoch 14 Iteration 0: Loss = 15.771415710449219\n",
      "Epoch 14 Iteration 100: Loss = 14.094664573669434\n",
      "Epoch 14 Iteration 200: Loss = 16.507837295532227\n",
      "Epoch 14 Iteration 300: Loss = 18.296903610229492\n"
     ]
    },
    {
     "name": "stderr",
     "output_type": "stream",
     "text": [
      "100%|██████████| 87/87 [00:27<00:00,  3.12it/s]\n",
      "100%|██████████| 87/87 [00:26<00:00,  3.27it/s]\n"
     ]
    },
    {
     "name": "stdout",
     "output_type": "stream",
     "text": [
      "Computing accuracy\n",
      "Test set accuracy (Precision@1) = 0.1893897236134298\n",
      "Epoch 15 Iteration 0: Loss = 14.838780403137207\n",
      "Epoch 15 Iteration 100: Loss = 13.883225440979004\n",
      "Epoch 15 Iteration 200: Loss = 15.72002124786377\n",
      "Epoch 15 Iteration 300: Loss = 15.804756164550781\n"
     ]
    },
    {
     "name": "stderr",
     "output_type": "stream",
     "text": [
      "100%|██████████| 87/87 [00:26<00:00,  3.31it/s]\n",
      "100%|██████████| 87/87 [00:25<00:00,  3.35it/s]\n"
     ]
    },
    {
     "name": "stdout",
     "output_type": "stream",
     "text": [
      "Computing accuracy\n",
      "Test set accuracy (Precision@1) = 0.18623631979224634\n",
      "Epoch 16 Iteration 0: Loss = 11.978242874145508\n",
      "Epoch 16 Iteration 100: Loss = 11.6329984664917\n",
      "Epoch 16 Iteration 200: Loss = 13.125982284545898\n",
      "Epoch 16 Iteration 300: Loss = 13.05381965637207\n"
     ]
    },
    {
     "name": "stderr",
     "output_type": "stream",
     "text": [
      "100%|██████████| 87/87 [00:26<00:00,  3.33it/s]\n",
      "100%|██████████| 87/87 [00:25<00:00,  3.39it/s]\n"
     ]
    },
    {
     "name": "stdout",
     "output_type": "stream",
     "text": [
      "Computing accuracy\n",
      "Test set accuracy (Precision@1) = 0.18753478018920422\n",
      "Epoch 17 Iteration 0: Loss = 10.16318130493164\n",
      "Epoch 17 Iteration 100: Loss = 11.005683898925781\n",
      "Epoch 17 Iteration 200: Loss = 13.797782897949219\n",
      "Epoch 17 Iteration 300: Loss = 13.025851249694824\n"
     ]
    },
    {
     "name": "stderr",
     "output_type": "stream",
     "text": [
      "100%|██████████| 87/87 [00:26<00:00,  3.30it/s]\n",
      "100%|██████████| 87/87 [00:26<00:00,  3.27it/s]\n"
     ]
    },
    {
     "name": "stdout",
     "output_type": "stream",
     "text": [
      "Computing accuracy\n",
      "Test set accuracy (Precision@1) = 0.1812279725468373\n",
      "Epoch 18 Iteration 0: Loss = 11.211109161376953\n",
      "Epoch 18 Iteration 100: Loss = 13.16658878326416\n",
      "Epoch 18 Iteration 200: Loss = 11.099489212036133\n",
      "Epoch 18 Iteration 300: Loss = 14.212296485900879\n"
     ]
    },
    {
     "name": "stderr",
     "output_type": "stream",
     "text": [
      "100%|██████████| 87/87 [00:27<00:00,  3.22it/s]\n",
      "100%|██████████| 87/87 [00:25<00:00,  3.39it/s]\n"
     ]
    },
    {
     "name": "stdout",
     "output_type": "stream",
     "text": [
      "Computing accuracy\n",
      "Test set accuracy (Precision@1) = 0.18363939899833054\n",
      "Epoch 19 Iteration 0: Loss = 11.11846923828125\n",
      "Epoch 19 Iteration 100: Loss = 10.939994812011719\n",
      "Epoch 19 Iteration 200: Loss = 11.162149429321289\n",
      "Epoch 19 Iteration 300: Loss = 10.088705062866211\n"
     ]
    },
    {
     "name": "stderr",
     "output_type": "stream",
     "text": [
      "100%|██████████| 87/87 [00:27<00:00,  3.18it/s]\n",
      "100%|██████████| 87/87 [00:25<00:00,  3.45it/s]\n"
     ]
    },
    {
     "name": "stdout",
     "output_type": "stream",
     "text": [
      "Computing accuracy\n",
      "Test set accuracy (Precision@1) = 0.1762196253014283\n",
      "Epoch 20 Iteration 0: Loss = 7.123590469360352\n",
      "Epoch 20 Iteration 100: Loss = 8.934403419494629\n",
      "Epoch 20 Iteration 200: Loss = 10.811995506286621\n",
      "Epoch 20 Iteration 300: Loss = 10.851678848266602\n"
     ]
    },
    {
     "name": "stderr",
     "output_type": "stream",
     "text": [
      "100%|██████████| 87/87 [00:26<00:00,  3.34it/s]\n",
      "100%|██████████| 87/87 [00:26<00:00,  3.33it/s]\n"
     ]
    },
    {
     "name": "stdout",
     "output_type": "stream",
     "text": [
      "Computing accuracy\n",
      "Test set accuracy (Precision@1) = 0.17751808569838617\n",
      "Epoch 21 Iteration 0: Loss = 10.22619342803955\n",
      "Epoch 21 Iteration 100: Loss = 8.615243911743164\n",
      "Epoch 21 Iteration 200: Loss = 12.024988174438477\n",
      "Epoch 21 Iteration 300: Loss = 10.070972442626953\n"
     ]
    },
    {
     "name": "stderr",
     "output_type": "stream",
     "text": [
      "100%|██████████| 87/87 [00:27<00:00,  3.19it/s]\n",
      "100%|██████████| 87/87 [00:25<00:00,  3.40it/s]\n"
     ]
    },
    {
     "name": "stdout",
     "output_type": "stream",
     "text": [
      "Computing accuracy\n",
      "Test set accuracy (Precision@1) = 0.18196994991652754\n",
      "Epoch 22 Iteration 0: Loss = 8.112523078918457\n",
      "Epoch 22 Iteration 100: Loss = 10.586477279663086\n",
      "Epoch 22 Iteration 200: Loss = 10.456939697265625\n",
      "Epoch 22 Iteration 300: Loss = 10.712889671325684\n"
     ]
    },
    {
     "name": "stderr",
     "output_type": "stream",
     "text": [
      "100%|██████████| 87/87 [00:27<00:00,  3.20it/s]\n",
      "100%|██████████| 87/87 [00:26<00:00,  3.30it/s]\n"
     ]
    },
    {
     "name": "stdout",
     "output_type": "stream",
     "text": [
      "Computing accuracy\n",
      "Test set accuracy (Precision@1) = 0.17733259135596363\n",
      "Epoch 23 Iteration 0: Loss = 8.651054382324219\n",
      "Epoch 23 Iteration 100: Loss = 7.994439125061035\n",
      "Epoch 23 Iteration 200: Loss = 9.261942863464355\n",
      "Epoch 23 Iteration 300: Loss = 10.303051948547363\n"
     ]
    },
    {
     "name": "stderr",
     "output_type": "stream",
     "text": [
      "100%|██████████| 87/87 [00:26<00:00,  3.33it/s]\n",
      "100%|██████████| 87/87 [00:26<00:00,  3.26it/s]\n"
     ]
    },
    {
     "name": "stdout",
     "output_type": "stream",
     "text": [
      "Computing accuracy\n",
      "Test set accuracy (Precision@1) = 0.17547764793173806\n",
      "Epoch 24 Iteration 0: Loss = 9.114143371582031\n",
      "Epoch 24 Iteration 100: Loss = 9.006940841674805\n",
      "Epoch 24 Iteration 200: Loss = 11.358139038085938\n",
      "Epoch 24 Iteration 300: Loss = 8.991487503051758\n"
     ]
    },
    {
     "name": "stderr",
     "output_type": "stream",
     "text": [
      "100%|██████████| 87/87 [00:25<00:00,  3.38it/s]\n",
      "100%|██████████| 87/87 [00:26<00:00,  3.22it/s]\n"
     ]
    },
    {
     "name": "stdout",
     "output_type": "stream",
     "text": [
      "Computing accuracy\n",
      "Test set accuracy (Precision@1) = 0.17343721016508995\n",
      "Epoch 25 Iteration 0: Loss = 6.237335205078125\n",
      "Epoch 25 Iteration 100: Loss = 7.185849189758301\n",
      "Epoch 25 Iteration 200: Loss = 8.490485191345215\n",
      "Epoch 25 Iteration 300: Loss = 8.956457138061523\n"
     ]
    },
    {
     "name": "stderr",
     "output_type": "stream",
     "text": [
      "100%|██████████| 87/87 [00:26<00:00,  3.34it/s]\n",
      "100%|██████████| 87/87 [00:26<00:00,  3.28it/s]\n"
     ]
    },
    {
     "name": "stdout",
     "output_type": "stream",
     "text": [
      "Computing accuracy\n",
      "Test set accuracy (Precision@1) = 0.17084028937117418\n",
      "Epoch 26 Iteration 0: Loss = 5.602773666381836\n",
      "Epoch 26 Iteration 100: Loss = 7.874614715576172\n",
      "Epoch 26 Iteration 200: Loss = 7.98798131942749\n",
      "Epoch 26 Iteration 300: Loss = 8.423332214355469\n"
     ]
    },
    {
     "name": "stderr",
     "output_type": "stream",
     "text": [
      "100%|██████████| 87/87 [00:27<00:00,  3.22it/s]\n",
      "100%|██████████| 87/87 [00:27<00:00,  3.12it/s]\n"
     ]
    },
    {
     "name": "stdout",
     "output_type": "stream",
     "text": [
      "Computing accuracy\n",
      "Test set accuracy (Precision@1) = 0.17213874976813207\n",
      "Epoch 27 Iteration 0: Loss = 5.6588616371154785\n",
      "Epoch 27 Iteration 100: Loss = 6.624838829040527\n",
      "Epoch 27 Iteration 200: Loss = 7.209985733032227\n",
      "Epoch 27 Iteration 300: Loss = 8.57433032989502\n"
     ]
    },
    {
     "name": "stderr",
     "output_type": "stream",
     "text": [
      "100%|██████████| 87/87 [00:27<00:00,  3.19it/s]\n",
      "100%|██████████| 87/87 [00:26<00:00,  3.26it/s]\n"
     ]
    },
    {
     "name": "stdout",
     "output_type": "stream",
     "text": [
      "Computing accuracy\n",
      "Test set accuracy (Precision@1) = 0.1706547950287516\n",
      "Epoch 28 Iteration 0: Loss = 5.826203346252441\n",
      "Epoch 28 Iteration 100: Loss = 4.822734832763672\n",
      "Epoch 28 Iteration 200: Loss = 7.542792320251465\n",
      "Epoch 28 Iteration 300: Loss = 7.2291340827941895\n"
     ]
    },
    {
     "name": "stderr",
     "output_type": "stream",
     "text": [
      "100%|██████████| 87/87 [00:26<00:00,  3.23it/s]\n",
      "100%|██████████| 87/87 [00:27<00:00,  3.19it/s]\n"
     ]
    },
    {
     "name": "stdout",
     "output_type": "stream",
     "text": [
      "Computing accuracy\n",
      "Test set accuracy (Precision@1) = 0.1702838063439065\n",
      "Epoch 29 Iteration 0: Loss = 6.665657043457031\n",
      "Epoch 29 Iteration 100: Loss = 5.117678642272949\n",
      "Epoch 29 Iteration 200: Loss = 5.078077793121338\n",
      "Epoch 29 Iteration 300: Loss = 7.334281921386719\n"
     ]
    },
    {
     "name": "stderr",
     "output_type": "stream",
     "text": [
      "100%|██████████| 87/87 [00:26<00:00,  3.32it/s]\n",
      "100%|██████████| 87/87 [00:26<00:00,  3.23it/s]\n"
     ]
    },
    {
     "name": "stdout",
     "output_type": "stream",
     "text": [
      "Computing accuracy\n",
      "Test set accuracy (Precision@1) = 0.16787237989241327\n",
      "Epoch 30 Iteration 0: Loss = 4.686445236206055\n",
      "Epoch 30 Iteration 100: Loss = 5.201355934143066\n",
      "Epoch 30 Iteration 200: Loss = 6.37308931350708\n",
      "Epoch 30 Iteration 300: Loss = 8.071727752685547\n"
     ]
    },
    {
     "name": "stderr",
     "output_type": "stream",
     "text": [
      "100%|██████████| 87/87 [00:26<00:00,  3.31it/s]\n",
      "100%|██████████| 87/87 [00:27<00:00,  3.21it/s]\n"
     ]
    },
    {
     "name": "stdout",
     "output_type": "stream",
     "text": [
      "Computing accuracy\n",
      "Test set accuracy (Precision@1) = 0.16917084028937115\n",
      "Epoch 31 Iteration 0: Loss = 5.42948579788208\n",
      "Epoch 31 Iteration 100: Loss = 6.589974403381348\n",
      "Epoch 31 Iteration 200: Loss = 4.370095252990723\n",
      "Epoch 31 Iteration 300: Loss = 7.946019172668457\n"
     ]
    },
    {
     "name": "stderr",
     "output_type": "stream",
     "text": [
      "100%|██████████| 87/87 [00:27<00:00,  3.22it/s]\n",
      "100%|██████████| 87/87 [00:28<00:00,  3.07it/s]\n"
     ]
    },
    {
     "name": "stdout",
     "output_type": "stream",
     "text": [
      "Computing accuracy\n",
      "Test set accuracy (Precision@1) = 0.16379150435911705\n",
      "Epoch 32 Iteration 0: Loss = 5.530531883239746\n",
      "Epoch 32 Iteration 100: Loss = 6.037389755249023\n",
      "Epoch 32 Iteration 200: Loss = 6.195308685302734\n",
      "Epoch 32 Iteration 300: Loss = 6.308359146118164\n"
     ]
    },
    {
     "name": "stderr",
     "output_type": "stream",
     "text": [
      "100%|██████████| 87/87 [00:26<00:00,  3.25it/s]\n",
      "100%|██████████| 87/87 [00:27<00:00,  3.19it/s]\n"
     ]
    },
    {
     "name": "stdout",
     "output_type": "stream",
     "text": [
      "Computing accuracy\n",
      "Test set accuracy (Precision@1) = 0.16471897607122982\n",
      "Epoch 33 Iteration 0: Loss = 5.52811336517334\n",
      "Epoch 33 Iteration 100: Loss = 5.651723861694336\n",
      "Epoch 33 Iteration 200: Loss = 6.5800251960754395\n",
      "Epoch 33 Iteration 300: Loss = 7.235743999481201\n"
     ]
    },
    {
     "name": "stderr",
     "output_type": "stream",
     "text": [
      "100%|██████████| 87/87 [00:25<00:00,  3.45it/s]\n",
      "100%|██████████| 87/87 [00:26<00:00,  3.31it/s]\n"
     ]
    },
    {
     "name": "stdout",
     "output_type": "stream",
     "text": [
      "Computing accuracy\n",
      "Test set accuracy (Precision@1) = 0.16249304396215913\n",
      "Epoch 34 Iteration 0: Loss = 3.8401641845703125\n",
      "Epoch 34 Iteration 100: Loss = 4.944535255432129\n",
      "Epoch 34 Iteration 200: Loss = 6.360590934753418\n",
      "Epoch 34 Iteration 300: Loss = 6.423023223876953\n"
     ]
    },
    {
     "name": "stderr",
     "output_type": "stream",
     "text": [
      "100%|██████████| 87/87 [00:26<00:00,  3.34it/s]\n",
      "100%|██████████| 87/87 [00:27<00:00,  3.21it/s]\n"
     ]
    },
    {
     "name": "stdout",
     "output_type": "stream",
     "text": [
      "Computing accuracy\n",
      "Test set accuracy (Precision@1) = 0.16527545909849747\n",
      "Epoch 35 Iteration 0: Loss = 5.139993667602539\n",
      "Epoch 35 Iteration 100: Loss = 3.7093727588653564\n",
      "Epoch 35 Iteration 200: Loss = 5.860846042633057\n",
      "Epoch 35 Iteration 300: Loss = 5.682533264160156\n"
     ]
    },
    {
     "name": "stderr",
     "output_type": "stream",
     "text": [
      "100%|██████████| 87/87 [00:25<00:00,  3.42it/s]\n",
      "100%|██████████| 87/87 [00:25<00:00,  3.41it/s]\n"
     ]
    },
    {
     "name": "stdout",
     "output_type": "stream",
     "text": [
      "Computing accuracy\n",
      "Test set accuracy (Precision@1) = 0.16416249304396216\n",
      "Epoch 36 Iteration 0: Loss = 3.352583408355713\n",
      "Epoch 36 Iteration 100: Loss = 4.590566635131836\n",
      "Epoch 36 Iteration 200: Loss = 5.894879341125488\n",
      "Epoch 36 Iteration 300: Loss = 4.189354419708252\n"
     ]
    },
    {
     "name": "stderr",
     "output_type": "stream",
     "text": [
      "100%|██████████| 87/87 [00:26<00:00,  3.34it/s]\n",
      "100%|██████████| 87/87 [00:26<00:00,  3.27it/s]\n"
     ]
    },
    {
     "name": "stdout",
     "output_type": "stream",
     "text": [
      "Computing accuracy\n",
      "Test set accuracy (Precision@1) = 0.1660174364681877\n",
      "Epoch 37 Iteration 0: Loss = 2.9446043968200684\n",
      "Epoch 37 Iteration 100: Loss = 4.851377964019775\n",
      "Epoch 37 Iteration 200: Loss = 4.567338943481445\n",
      "Epoch 37 Iteration 300: Loss = 5.57211971282959\n"
     ]
    },
    {
     "name": "stderr",
     "output_type": "stream",
     "text": [
      "100%|██████████| 87/87 [00:26<00:00,  3.26it/s]\n",
      "100%|██████████| 87/87 [00:26<00:00,  3.25it/s]\n"
     ]
    },
    {
     "name": "stdout",
     "output_type": "stream",
     "text": [
      "Computing accuracy\n",
      "Test set accuracy (Precision@1) = 0.16304952698942682\n",
      "Epoch 38 Iteration 0: Loss = 2.948680877685547\n",
      "Epoch 38 Iteration 100: Loss = 3.720046043395996\n",
      "Epoch 38 Iteration 200: Loss = 4.911438941955566\n",
      "Epoch 38 Iteration 300: Loss = 5.69547700881958\n"
     ]
    },
    {
     "name": "stderr",
     "output_type": "stream",
     "text": [
      "100%|██████████| 87/87 [00:28<00:00,  3.08it/s]\n",
      "100%|██████████| 87/87 [00:26<00:00,  3.30it/s]\n"
     ]
    },
    {
     "name": "stdout",
     "output_type": "stream",
     "text": [
      "Computing accuracy\n",
      "Test set accuracy (Precision@1) = 0.16453348172880727\n",
      "Epoch 39 Iteration 0: Loss = 2.5042781829833984\n",
      "Epoch 39 Iteration 100: Loss = 5.15268087387085\n",
      "Epoch 39 Iteration 200: Loss = 4.753509521484375\n",
      "Epoch 39 Iteration 300: Loss = 4.381427764892578\n"
     ]
    },
    {
     "name": "stderr",
     "output_type": "stream",
     "text": [
      "100%|██████████| 87/87 [00:26<00:00,  3.32it/s]\n",
      "100%|██████████| 87/87 [00:25<00:00,  3.42it/s]\n"
     ]
    },
    {
     "name": "stdout",
     "output_type": "stream",
     "text": [
      "Computing accuracy\n",
      "Test set accuracy (Precision@1) = 0.16620293081061027\n",
      "Epoch 40 Iteration 0: Loss = 2.8321173191070557\n",
      "Epoch 40 Iteration 100: Loss = 4.698192596435547\n",
      "Epoch 40 Iteration 200: Loss = 5.334158897399902\n",
      "Epoch 40 Iteration 300: Loss = 5.6639251708984375\n"
     ]
    },
    {
     "name": "stderr",
     "output_type": "stream",
     "text": [
      "100%|██████████| 87/87 [00:26<00:00,  3.25it/s]\n",
      "100%|██████████| 87/87 [00:26<00:00,  3.29it/s]\n"
     ]
    },
    {
     "name": "stdout",
     "output_type": "stream",
     "text": [
      "Computing accuracy\n",
      "Test set accuracy (Precision@1) = 0.16323502133184936\n",
      "Epoch 41 Iteration 0: Loss = 4.057343482971191\n",
      "Epoch 41 Iteration 100: Loss = 4.810885429382324\n",
      "Epoch 41 Iteration 200: Loss = 5.099465847015381\n",
      "Epoch 41 Iteration 300: Loss = 5.739408493041992\n"
     ]
    },
    {
     "name": "stderr",
     "output_type": "stream",
     "text": [
      "100%|██████████| 87/87 [00:27<00:00,  3.17it/s]\n",
      "100%|██████████| 87/87 [00:27<00:00,  3.19it/s]\n"
     ]
    },
    {
     "name": "stdout",
     "output_type": "stream",
     "text": [
      "Computing accuracy\n",
      "Test set accuracy (Precision@1) = 0.1643479873863847\n",
      "Epoch 42 Iteration 0: Loss = 4.300358772277832\n",
      "Epoch 42 Iteration 100: Loss = 4.31542444229126\n",
      "Epoch 42 Iteration 200: Loss = 4.76347541809082\n",
      "Epoch 42 Iteration 300: Loss = 3.623906373977661\n"
     ]
    },
    {
     "name": "stderr",
     "output_type": "stream",
     "text": [
      "100%|██████████| 87/87 [00:26<00:00,  3.34it/s]\n",
      "100%|██████████| 87/87 [00:26<00:00,  3.32it/s]\n"
     ]
    },
    {
     "name": "stdout",
     "output_type": "stream",
     "text": [
      "Computing accuracy\n",
      "Test set accuracy (Precision@1) = 0.16249304396215913\n",
      "Epoch 43 Iteration 0: Loss = 4.043725967407227\n",
      "Epoch 43 Iteration 100: Loss = 3.781982898712158\n",
      "Epoch 43 Iteration 200: Loss = 4.062434196472168\n",
      "Epoch 43 Iteration 300: Loss = 5.004051208496094\n"
     ]
    },
    {
     "name": "stderr",
     "output_type": "stream",
     "text": [
      "100%|██████████| 87/87 [00:26<00:00,  3.23it/s]\n",
      "100%|██████████| 87/87 [00:27<00:00,  3.20it/s]\n"
     ]
    },
    {
     "name": "stdout",
     "output_type": "stream",
     "text": [
      "Computing accuracy\n",
      "Test set accuracy (Precision@1) = 0.16249304396215913\n",
      "Epoch 44 Iteration 0: Loss = 3.7828245162963867\n",
      "Epoch 44 Iteration 100: Loss = 2.901505470275879\n",
      "Epoch 44 Iteration 200: Loss = 3.489696741104126\n",
      "Epoch 44 Iteration 300: Loss = 3.788227081298828\n"
     ]
    },
    {
     "name": "stderr",
     "output_type": "stream",
     "text": [
      "100%|██████████| 87/87 [00:26<00:00,  3.24it/s]\n",
      "100%|██████████| 87/87 [00:26<00:00,  3.31it/s]\n"
     ]
    },
    {
     "name": "stdout",
     "output_type": "stream",
     "text": [
      "Computing accuracy\n",
      "Test set accuracy (Precision@1) = 0.1617510665924689\n",
      "Epoch 45 Iteration 0: Loss = 3.226433277130127\n",
      "Epoch 45 Iteration 100: Loss = 3.144453525543213\n",
      "Epoch 45 Iteration 200: Loss = 3.8184144496917725\n",
      "Epoch 45 Iteration 300: Loss = 3.949334144592285\n"
     ]
    },
    {
     "name": "stderr",
     "output_type": "stream",
     "text": [
      "100%|██████████| 87/87 [00:26<00:00,  3.27it/s]\n",
      "100%|██████████| 87/87 [00:27<00:00,  3.21it/s]\n"
     ]
    },
    {
     "name": "stdout",
     "output_type": "stream",
     "text": [
      "Computing accuracy\n",
      "Test set accuracy (Precision@1) = 0.16045260619551102\n",
      "Epoch 46 Iteration 0: Loss = 2.3901100158691406\n",
      "Epoch 46 Iteration 100: Loss = 3.4218125343322754\n",
      "Epoch 46 Iteration 200: Loss = 4.520055294036865\n",
      "Epoch 46 Iteration 300: Loss = 3.8270442485809326\n"
     ]
    },
    {
     "name": "stderr",
     "output_type": "stream",
     "text": [
      "100%|██████████| 87/87 [00:27<00:00,  3.20it/s]\n",
      "100%|██████████| 87/87 [00:26<00:00,  3.34it/s]\n"
     ]
    },
    {
     "name": "stdout",
     "output_type": "stream",
     "text": [
      "Computing accuracy\n",
      "Test set accuracy (Precision@1) = 0.16026711185308848\n",
      "Epoch 47 Iteration 0: Loss = 3.149850845336914\n",
      "Epoch 47 Iteration 100: Loss = 4.093593597412109\n",
      "Epoch 47 Iteration 200: Loss = 4.666696071624756\n",
      "Epoch 47 Iteration 300: Loss = 4.214959144592285\n"
     ]
    },
    {
     "name": "stderr",
     "output_type": "stream",
     "text": [
      "100%|██████████| 87/87 [00:26<00:00,  3.27it/s]\n",
      "100%|██████████| 87/87 [00:26<00:00,  3.27it/s]\n"
     ]
    },
    {
     "name": "stdout",
     "output_type": "stream",
     "text": [
      "Computing accuracy\n",
      "Test set accuracy (Precision@1) = 0.16082359488035614\n",
      "Epoch 48 Iteration 0: Loss = 3.152852773666382\n",
      "Epoch 48 Iteration 100: Loss = 3.0896389484405518\n",
      "Epoch 48 Iteration 200: Loss = 3.055081605911255\n",
      "Epoch 48 Iteration 300: Loss = 4.016009330749512\n"
     ]
    },
    {
     "name": "stderr",
     "output_type": "stream",
     "text": [
      "100%|██████████| 87/87 [00:26<00:00,  3.30it/s]\n",
      "100%|██████████| 87/87 [00:27<00:00,  3.16it/s]\n"
     ]
    },
    {
     "name": "stdout",
     "output_type": "stream",
     "text": [
      "Computing accuracy\n",
      "Test set accuracy (Precision@1) = 0.1617510665924689\n",
      "Epoch 49 Iteration 0: Loss = 2.9423208236694336\n",
      "Epoch 49 Iteration 100: Loss = 3.919006824493408\n",
      "Epoch 49 Iteration 200: Loss = 3.637463092803955\n",
      "Epoch 49 Iteration 300: Loss = 3.7527763843536377\n"
     ]
    },
    {
     "name": "stderr",
     "output_type": "stream",
     "text": [
      "100%|██████████| 87/87 [00:26<00:00,  3.24it/s]\n",
      "100%|██████████| 87/87 [00:25<00:00,  3.37it/s]\n"
     ]
    },
    {
     "name": "stdout",
     "output_type": "stream",
     "text": [
      "Computing accuracy\n",
      "Test set accuracy (Precision@1) = 0.16212205527731402\n",
      "Epoch 50 Iteration 0: Loss = 2.481905937194824\n",
      "Epoch 50 Iteration 100: Loss = 2.7196590900421143\n",
      "Epoch 50 Iteration 200: Loss = 3.2372047901153564\n",
      "Epoch 50 Iteration 300: Loss = 4.431612014770508\n"
     ]
    },
    {
     "name": "stderr",
     "output_type": "stream",
     "text": [
      "100%|██████████| 87/87 [00:26<00:00,  3.28it/s]\n",
      "100%|██████████| 87/87 [00:26<00:00,  3.33it/s]\n"
     ]
    },
    {
     "name": "stdout",
     "output_type": "stream",
     "text": [
      "Computing accuracy\n",
      "Test set accuracy (Precision@1) = 0.15692821368948245\n",
      "Epoch 51 Iteration 0: Loss = 2.496652126312256\n",
      "Epoch 51 Iteration 100: Loss = 3.280355930328369\n",
      "Epoch 51 Iteration 200: Loss = 2.7440028190612793\n",
      "Epoch 51 Iteration 300: Loss = 4.007874488830566\n"
     ]
    },
    {
     "name": "stderr",
     "output_type": "stream",
     "text": [
      "100%|██████████| 87/87 [00:26<00:00,  3.26it/s]\n",
      "100%|██████████| 87/87 [00:27<00:00,  3.12it/s]\n"
     ]
    },
    {
     "name": "stdout",
     "output_type": "stream",
     "text": [
      "Computing accuracy\n",
      "Test set accuracy (Precision@1) = 0.1639769987015396\n",
      "Epoch 52 Iteration 0: Loss = 2.1479201316833496\n",
      "Epoch 52 Iteration 100: Loss = 3.689018726348877\n",
      "Epoch 52 Iteration 200: Loss = 3.651407480239868\n",
      "Epoch 52 Iteration 300: Loss = 3.998950481414795\n"
     ]
    },
    {
     "name": "stderr",
     "output_type": "stream",
     "text": [
      "100%|██████████| 87/87 [00:25<00:00,  3.40it/s]\n",
      "100%|██████████| 87/87 [00:25<00:00,  3.35it/s]\n"
     ]
    },
    {
     "name": "stdout",
     "output_type": "stream",
     "text": [
      "Computing accuracy\n",
      "Test set accuracy (Precision@1) = 0.1626785383045817\n",
      "Epoch 53 Iteration 0: Loss = 2.5797619819641113\n",
      "Epoch 53 Iteration 100: Loss = 3.245435953140259\n",
      "Epoch 53 Iteration 200: Loss = 3.3863563537597656\n",
      "Epoch 53 Iteration 300: Loss = 3.368809700012207\n"
     ]
    },
    {
     "name": "stderr",
     "output_type": "stream",
     "text": [
      "100%|██████████| 87/87 [00:25<00:00,  3.41it/s]\n",
      "100%|██████████| 87/87 [00:26<00:00,  3.29it/s]\n"
     ]
    },
    {
     "name": "stdout",
     "output_type": "stream",
     "text": [
      "Computing accuracy\n",
      "Test set accuracy (Precision@1) = 0.16119458356520125\n",
      "Epoch 54 Iteration 0: Loss = 2.9292378425598145\n",
      "Epoch 54 Iteration 100: Loss = 3.0804362297058105\n",
      "Epoch 54 Iteration 200: Loss = 3.2129597663879395\n",
      "Epoch 54 Iteration 300: Loss = 3.411187171936035\n"
     ]
    },
    {
     "name": "stderr",
     "output_type": "stream",
     "text": [
      "100%|██████████| 87/87 [00:27<00:00,  3.14it/s]\n",
      "100%|██████████| 87/87 [00:26<00:00,  3.26it/s]\n"
     ]
    },
    {
     "name": "stdout",
     "output_type": "stream",
     "text": [
      "Computing accuracy\n",
      "Test set accuracy (Precision@1) = 0.15729920237432757\n",
      "Epoch 55 Iteration 0: Loss = 2.7780799865722656\n",
      "Epoch 55 Iteration 100: Loss = 2.0633695125579834\n",
      "Epoch 55 Iteration 200: Loss = 4.024641990661621\n",
      "Epoch 55 Iteration 300: Loss = 3.390678882598877\n"
     ]
    },
    {
     "name": "stderr",
     "output_type": "stream",
     "text": [
      "100%|██████████| 87/87 [00:26<00:00,  3.27it/s]\n",
      "100%|██████████| 87/87 [00:26<00:00,  3.27it/s]\n"
     ]
    },
    {
     "name": "stdout",
     "output_type": "stream",
     "text": [
      "Computing accuracy\n",
      "Test set accuracy (Precision@1) = 0.15767019105917268\n",
      "Epoch 56 Iteration 0: Loss = 2.548340320587158\n",
      "Epoch 56 Iteration 100: Loss = 2.204188108444214\n",
      "Epoch 56 Iteration 200: Loss = 2.566220998764038\n",
      "Epoch 56 Iteration 300: Loss = 3.6308155059814453\n"
     ]
    },
    {
     "name": "stderr",
     "output_type": "stream",
     "text": [
      "100%|██████████| 87/87 [00:25<00:00,  3.35it/s]\n",
      "100%|██████████| 87/87 [00:26<00:00,  3.25it/s]\n"
     ]
    },
    {
     "name": "stdout",
     "output_type": "stream",
     "text": [
      "Computing accuracy\n",
      "Test set accuracy (Precision@1) = 0.15989612316824336\n",
      "Epoch 57 Iteration 0: Loss = 2.6778628826141357\n",
      "Epoch 57 Iteration 100: Loss = 2.32401704788208\n",
      "Epoch 57 Iteration 200: Loss = 3.0181710720062256\n",
      "Epoch 57 Iteration 300: Loss = 3.622892379760742\n"
     ]
    },
    {
     "name": "stderr",
     "output_type": "stream",
     "text": [
      "100%|██████████| 87/87 [00:26<00:00,  3.30it/s]\n",
      "100%|██████████| 87/87 [00:27<00:00,  3.12it/s]\n"
     ]
    },
    {
     "name": "stdout",
     "output_type": "stream",
     "text": [
      "Computing accuracy\n",
      "Test set accuracy (Precision@1) = 0.16138007790762382\n",
      "Epoch 58 Iteration 0: Loss = 2.452632188796997\n",
      "Epoch 58 Iteration 100: Loss = 2.7622718811035156\n",
      "Epoch 58 Iteration 200: Loss = 3.102203369140625\n",
      "Epoch 58 Iteration 300: Loss = 3.6624555587768555\n"
     ]
    },
    {
     "name": "stderr",
     "output_type": "stream",
     "text": [
      "100%|██████████| 87/87 [00:26<00:00,  3.23it/s]\n",
      "100%|██████████| 87/87 [00:27<00:00,  3.16it/s]\n"
     ]
    },
    {
     "name": "stdout",
     "output_type": "stream",
     "text": [
      "Computing accuracy\n",
      "Test set accuracy (Precision@1) = 0.1597106288258208\n",
      "Epoch 59 Iteration 0: Loss = 3.5481510162353516\n",
      "Epoch 59 Iteration 100: Loss = 3.55722713470459\n",
      "Epoch 59 Iteration 200: Loss = 3.580578565597534\n",
      "Epoch 59 Iteration 300: Loss = 3.5369293689727783\n"
     ]
    },
    {
     "name": "stderr",
     "output_type": "stream",
     "text": [
      "100%|██████████| 87/87 [00:26<00:00,  3.31it/s]\n",
      "100%|██████████| 87/87 [00:25<00:00,  3.42it/s]\n"
     ]
    },
    {
     "name": "stdout",
     "output_type": "stream",
     "text": [
      "Computing accuracy\n",
      "Test set accuracy (Precision@1) = 0.15952513448339825\n",
      "Epoch 60 Iteration 0: Loss = 2.1426479816436768\n",
      "Epoch 60 Iteration 100: Loss = 2.7549643516540527\n",
      "Epoch 60 Iteration 200: Loss = 3.106222152709961\n",
      "Epoch 60 Iteration 300: Loss = 2.7595608234405518\n"
     ]
    },
    {
     "name": "stderr",
     "output_type": "stream",
     "text": [
      "100%|██████████| 87/87 [00:26<00:00,  3.32it/s]\n",
      "100%|██████████| 87/87 [00:27<00:00,  3.14it/s]\n"
     ]
    },
    {
     "name": "stdout",
     "output_type": "stream",
     "text": [
      "Computing accuracy\n",
      "Test set accuracy (Precision@1) = 0.1606381005379336\n",
      "Epoch 61 Iteration 0: Loss = 2.1914710998535156\n",
      "Epoch 61 Iteration 100: Loss = 2.2539420127868652\n",
      "Epoch 61 Iteration 200: Loss = 2.376622438430786\n",
      "Epoch 61 Iteration 300: Loss = 3.212744951248169\n"
     ]
    },
    {
     "name": "stderr",
     "output_type": "stream",
     "text": [
      "100%|██████████| 87/87 [00:27<00:00,  3.19it/s]\n",
      "100%|██████████| 87/87 [00:26<00:00,  3.29it/s]\n"
     ]
    },
    {
     "name": "stdout",
     "output_type": "stream",
     "text": [
      "Computing accuracy\n",
      "Test set accuracy (Precision@1) = 0.15859766277128545\n",
      "Epoch 62 Iteration 0: Loss = 2.4831652641296387\n",
      "Epoch 62 Iteration 100: Loss = 2.530728578567505\n",
      "Epoch 62 Iteration 200: Loss = 2.6309187412261963\n",
      "Epoch 62 Iteration 300: Loss = 2.170785903930664\n"
     ]
    },
    {
     "name": "stderr",
     "output_type": "stream",
     "text": [
      "100%|██████████| 87/87 [00:26<00:00,  3.31it/s]\n",
      "100%|██████████| 87/87 [00:27<00:00,  3.20it/s]\n"
     ]
    },
    {
     "name": "stdout",
     "output_type": "stream",
     "text": [
      "Computing accuracy\n",
      "Test set accuracy (Precision@1) = 0.1584121684288629\n",
      "Epoch 63 Iteration 0: Loss = 2.374786853790283\n",
      "Epoch 63 Iteration 100: Loss = 3.3734474182128906\n",
      "Epoch 63 Iteration 200: Loss = 2.9018173217773438\n",
      "Epoch 63 Iteration 300: Loss = 3.0554299354553223\n"
     ]
    },
    {
     "name": "stderr",
     "output_type": "stream",
     "text": [
      "100%|██████████| 87/87 [00:26<00:00,  3.27it/s]\n",
      "100%|██████████| 87/87 [00:26<00:00,  3.28it/s]\n"
     ]
    },
    {
     "name": "stdout",
     "output_type": "stream",
     "text": [
      "Computing accuracy\n",
      "Test set accuracy (Precision@1) = 0.15915414579855314\n",
      "Epoch 64 Iteration 0: Loss = 3.3019232749938965\n",
      "Epoch 64 Iteration 100: Loss = 2.897815704345703\n",
      "Epoch 64 Iteration 200: Loss = 2.511704683303833\n",
      "Epoch 64 Iteration 300: Loss = 3.767516613006592\n"
     ]
    },
    {
     "name": "stderr",
     "output_type": "stream",
     "text": [
      "100%|██████████| 87/87 [00:26<00:00,  3.24it/s]\n",
      "100%|██████████| 87/87 [00:27<00:00,  3.11it/s]\n"
     ]
    },
    {
     "name": "stdout",
     "output_type": "stream",
     "text": [
      "Computing accuracy\n",
      "Test set accuracy (Precision@1) = 0.16119458356520125\n",
      "Epoch 65 Iteration 0: Loss = 2.484595775604248\n",
      "Epoch 65 Iteration 100: Loss = 2.8452577590942383\n",
      "Epoch 65 Iteration 200: Loss = 2.232451915740967\n",
      "Epoch 65 Iteration 300: Loss = 3.624647617340088\n"
     ]
    },
    {
     "name": "stderr",
     "output_type": "stream",
     "text": [
      "100%|██████████| 87/87 [00:25<00:00,  3.37it/s]\n",
      "100%|██████████| 87/87 [00:27<00:00,  3.15it/s]\n"
     ]
    },
    {
     "name": "stdout",
     "output_type": "stream",
     "text": [
      "Computing accuracy\n",
      "Test set accuracy (Precision@1) = 0.15896865145613057\n",
      "Epoch 66 Iteration 0: Loss = 1.9679046869277954\n",
      "Epoch 66 Iteration 100: Loss = 2.5806665420532227\n",
      "Epoch 66 Iteration 200: Loss = 2.4166319370269775\n",
      "Epoch 66 Iteration 300: Loss = 2.299152374267578\n"
     ]
    },
    {
     "name": "stderr",
     "output_type": "stream",
     "text": [
      "100%|██████████| 87/87 [00:27<00:00,  3.18it/s]\n",
      "100%|██████████| 87/87 [00:26<00:00,  3.33it/s]\n"
     ]
    },
    {
     "name": "stdout",
     "output_type": "stream",
     "text": [
      "Computing accuracy\n",
      "Test set accuracy (Precision@1) = 0.16138007790762382\n",
      "Epoch 67 Iteration 0: Loss = 2.9022889137268066\n",
      "Epoch 67 Iteration 100: Loss = 2.947953939437866\n",
      "Epoch 67 Iteration 200: Loss = 2.7613577842712402\n",
      "Epoch 67 Iteration 300: Loss = 2.9548513889312744\n"
     ]
    },
    {
     "name": "stderr",
     "output_type": "stream",
     "text": [
      "100%|██████████| 87/87 [00:25<00:00,  3.38it/s]\n",
      "100%|██████████| 87/87 [00:26<00:00,  3.32it/s]\n"
     ]
    },
    {
     "name": "stdout",
     "output_type": "stream",
     "text": [
      "Computing accuracy\n",
      "Test set accuracy (Precision@1) = 0.15989612316824336\n",
      "Epoch 68 Iteration 0: Loss = 2.6790080070495605\n",
      "Epoch 68 Iteration 100: Loss = 2.095564842224121\n",
      "Epoch 68 Iteration 200: Loss = 2.5892107486724854\n",
      "Epoch 68 Iteration 300: Loss = 2.5362844467163086\n"
     ]
    },
    {
     "name": "stderr",
     "output_type": "stream",
     "text": [
      "100%|██████████| 87/87 [00:25<00:00,  3.37it/s]\n",
      "100%|██████████| 87/87 [00:25<00:00,  3.44it/s]\n"
     ]
    },
    {
     "name": "stdout",
     "output_type": "stream",
     "text": [
      "Computing accuracy\n",
      "Test set accuracy (Precision@1) = 0.1597106288258208\n",
      "Epoch 69 Iteration 0: Loss = 1.771352767944336\n",
      "Epoch 69 Iteration 100: Loss = 2.3316991329193115\n",
      "Epoch 69 Iteration 200: Loss = 2.4530510902404785\n",
      "Epoch 69 Iteration 300: Loss = 2.9144630432128906\n"
     ]
    },
    {
     "name": "stderr",
     "output_type": "stream",
     "text": [
      "100%|██████████| 87/87 [00:26<00:00,  3.24it/s]\n",
      "100%|██████████| 87/87 [00:26<00:00,  3.31it/s]\n"
     ]
    },
    {
     "name": "stdout",
     "output_type": "stream",
     "text": [
      "Computing accuracy\n",
      "Test set accuracy (Precision@1) = 0.15748469671675014\n",
      "Epoch 70 Iteration 0: Loss = 1.896431803703308\n",
      "Epoch 70 Iteration 100: Loss = 3.1360995769500732\n",
      "Epoch 70 Iteration 200: Loss = 2.5134053230285645\n",
      "Epoch 70 Iteration 300: Loss = 2.224064350128174\n"
     ]
    },
    {
     "name": "stderr",
     "output_type": "stream",
     "text": [
      "100%|██████████| 87/87 [00:25<00:00,  3.41it/s]\n",
      "100%|██████████| 87/87 [00:26<00:00,  3.33it/s]\n"
     ]
    },
    {
     "name": "stdout",
     "output_type": "stream",
     "text": [
      "Computing accuracy\n",
      "Test set accuracy (Precision@1) = 0.16416249304396216\n",
      "Epoch 71 Iteration 0: Loss = 2.6743035316467285\n",
      "Epoch 71 Iteration 100: Loss = 1.9709960222244263\n",
      "Epoch 71 Iteration 200: Loss = 3.2386083602905273\n",
      "Epoch 71 Iteration 300: Loss = 1.9776841402053833\n"
     ]
    },
    {
     "name": "stderr",
     "output_type": "stream",
     "text": [
      "100%|██████████| 87/87 [00:26<00:00,  3.31it/s]\n",
      "100%|██████████| 87/87 [00:27<00:00,  3.20it/s]\n"
     ]
    },
    {
     "name": "stdout",
     "output_type": "stream",
     "text": [
      "Computing accuracy\n",
      "Test set accuracy (Precision@1) = 0.1580411797440178\n",
      "Epoch 72 Iteration 0: Loss = 2.6304237842559814\n",
      "Epoch 72 Iteration 100: Loss = 1.4842772483825684\n",
      "Epoch 72 Iteration 200: Loss = 1.814913034439087\n",
      "Epoch 72 Iteration 300: Loss = 2.7139415740966797\n"
     ]
    },
    {
     "name": "stderr",
     "output_type": "stream",
     "text": [
      "100%|██████████| 87/87 [00:25<00:00,  3.38it/s]\n",
      "100%|██████████| 87/87 [00:26<00:00,  3.29it/s]\n"
     ]
    },
    {
     "name": "stdout",
     "output_type": "stream",
     "text": [
      "Computing accuracy\n",
      "Test set accuracy (Precision@1) = 0.1610090892227787\n",
      "Epoch 73 Iteration 0: Loss = 1.5581976175308228\n",
      "Epoch 73 Iteration 100: Loss = 2.1889750957489014\n",
      "Epoch 73 Iteration 200: Loss = 1.698082447052002\n",
      "Epoch 73 Iteration 300: Loss = 3.2904672622680664\n"
     ]
    },
    {
     "name": "stderr",
     "output_type": "stream",
     "text": [
      "100%|██████████| 87/87 [00:26<00:00,  3.31it/s]\n",
      "100%|██████████| 87/87 [00:26<00:00,  3.31it/s]\n"
     ]
    },
    {
     "name": "stdout",
     "output_type": "stream",
     "text": [
      "Computing accuracy\n",
      "Test set accuracy (Precision@1) = 0.16119458356520125\n",
      "Epoch 74 Iteration 0: Loss = 1.7274607419967651\n",
      "Epoch 74 Iteration 100: Loss = 1.8407554626464844\n",
      "Epoch 74 Iteration 200: Loss = 1.8570945262908936\n",
      "Epoch 74 Iteration 300: Loss = 2.8517990112304688\n"
     ]
    },
    {
     "name": "stderr",
     "output_type": "stream",
     "text": [
      "100%|██████████| 87/87 [00:26<00:00,  3.32it/s]\n",
      "100%|██████████| 87/87 [00:26<00:00,  3.26it/s]\n"
     ]
    },
    {
     "name": "stdout",
     "output_type": "stream",
     "text": [
      "Computing accuracy\n",
      "Test set accuracy (Precision@1) = 0.1617510665924689\n",
      "Epoch 75 Iteration 0: Loss = 1.675321102142334\n",
      "Epoch 75 Iteration 100: Loss = 1.958806037902832\n",
      "Epoch 75 Iteration 200: Loss = 2.6726887226104736\n",
      "Epoch 75 Iteration 300: Loss = 2.834230899810791\n"
     ]
    },
    {
     "name": "stderr",
     "output_type": "stream",
     "text": [
      "100%|██████████| 87/87 [00:25<00:00,  3.40it/s]\n",
      "100%|██████████| 87/87 [00:25<00:00,  3.36it/s]\n"
     ]
    },
    {
     "name": "stdout",
     "output_type": "stream",
     "text": [
      "Computing accuracy\n",
      "Test set accuracy (Precision@1) = 0.16323502133184936\n",
      "Epoch 76 Iteration 0: Loss = 1.5784451961517334\n",
      "Epoch 76 Iteration 100: Loss = 2.356212615966797\n",
      "Epoch 76 Iteration 200: Loss = 1.9821052551269531\n",
      "Epoch 76 Iteration 300: Loss = 2.3371293544769287\n"
     ]
    },
    {
     "name": "stderr",
     "output_type": "stream",
     "text": [
      "100%|██████████| 87/87 [00:26<00:00,  3.32it/s]\n",
      "100%|██████████| 87/87 [00:26<00:00,  3.27it/s]\n"
     ]
    },
    {
     "name": "stdout",
     "output_type": "stream",
     "text": [
      "Computing accuracy\n",
      "Test set accuracy (Precision@1) = 0.16045260619551102\n",
      "Epoch 77 Iteration 0: Loss = 1.6830556392669678\n",
      "Epoch 77 Iteration 100: Loss = 1.170229196548462\n",
      "Epoch 77 Iteration 200: Loss = 2.126361846923828\n",
      "Epoch 77 Iteration 300: Loss = 1.8678514957427979\n"
     ]
    },
    {
     "name": "stderr",
     "output_type": "stream",
     "text": [
      "100%|██████████| 87/87 [00:27<00:00,  3.19it/s]\n",
      "100%|██████████| 87/87 [00:26<00:00,  3.27it/s]\n"
     ]
    },
    {
     "name": "stdout",
     "output_type": "stream",
     "text": [
      "Computing accuracy\n",
      "Test set accuracy (Precision@1) = 0.1584121684288629\n",
      "Epoch 78 Iteration 0: Loss = 0.9886470437049866\n",
      "Epoch 78 Iteration 100: Loss = 1.4690437316894531\n",
      "Epoch 78 Iteration 200: Loss = 1.976669192314148\n",
      "Epoch 78 Iteration 300: Loss = 2.799851655960083\n"
     ]
    },
    {
     "name": "stderr",
     "output_type": "stream",
     "text": [
      "100%|██████████| 87/87 [00:26<00:00,  3.24it/s]\n",
      "100%|██████████| 87/87 [00:28<00:00,  3.05it/s]\n"
     ]
    },
    {
     "name": "stdout",
     "output_type": "stream",
     "text": [
      "Computing accuracy\n",
      "Test set accuracy (Precision@1) = 0.1563717306622148\n",
      "Epoch 79 Iteration 0: Loss = 1.3788032531738281\n",
      "Epoch 79 Iteration 100: Loss = 2.422820568084717\n",
      "Epoch 79 Iteration 200: Loss = 2.3856048583984375\n",
      "Epoch 79 Iteration 300: Loss = 1.9989962577819824\n"
     ]
    },
    {
     "name": "stderr",
     "output_type": "stream",
     "text": [
      "100%|██████████| 87/87 [00:27<00:00,  3.11it/s]\n",
      "100%|██████████| 87/87 [00:27<00:00,  3.20it/s]\n"
     ]
    },
    {
     "name": "stdout",
     "output_type": "stream",
     "text": [
      "Computing accuracy\n",
      "Test set accuracy (Precision@1) = 0.15785568540159525\n",
      "Epoch 80 Iteration 0: Loss = 1.1267329454421997\n",
      "Epoch 80 Iteration 100: Loss = 2.1229162216186523\n",
      "Epoch 80 Iteration 200: Loss = 2.4311089515686035\n",
      "Epoch 80 Iteration 300: Loss = 2.3510191440582275\n"
     ]
    },
    {
     "name": "stderr",
     "output_type": "stream",
     "text": [
      "100%|██████████| 87/87 [00:25<00:00,  3.42it/s]\n",
      "100%|██████████| 87/87 [00:26<00:00,  3.31it/s]\n"
     ]
    },
    {
     "name": "stdout",
     "output_type": "stream",
     "text": [
      "Computing accuracy\n",
      "Test set accuracy (Precision@1) = 0.16286403264700425\n",
      "Epoch 81 Iteration 0: Loss = 2.146026372909546\n",
      "Epoch 81 Iteration 100: Loss = 2.3236687183380127\n",
      "Epoch 81 Iteration 200: Loss = 2.007155179977417\n",
      "Epoch 81 Iteration 300: Loss = 1.9025373458862305\n"
     ]
    },
    {
     "name": "stderr",
     "output_type": "stream",
     "text": [
      "100%|██████████| 87/87 [00:25<00:00,  3.40it/s]\n",
      "100%|██████████| 87/87 [00:26<00:00,  3.24it/s]\n"
     ]
    },
    {
     "name": "stdout",
     "output_type": "stream",
     "text": [
      "Computing accuracy\n",
      "Test set accuracy (Precision@1) = 0.15896865145613057\n",
      "Epoch 82 Iteration 0: Loss = 2.1254544258117676\n",
      "Epoch 82 Iteration 100: Loss = 0.8103449940681458\n",
      "Epoch 82 Iteration 200: Loss = 1.6689170598983765\n",
      "Epoch 82 Iteration 300: Loss = 1.914130449295044\n"
     ]
    },
    {
     "name": "stderr",
     "output_type": "stream",
     "text": [
      "100%|██████████| 87/87 [00:25<00:00,  3.36it/s]\n",
      "100%|██████████| 87/87 [00:27<00:00,  3.13it/s]\n"
     ]
    },
    {
     "name": "stdout",
     "output_type": "stream",
     "text": [
      "Computing accuracy\n",
      "Test set accuracy (Precision@1) = 0.15933964014097568\n",
      "Epoch 83 Iteration 0: Loss = 1.4849607944488525\n",
      "Epoch 83 Iteration 100: Loss = 2.035767078399658\n",
      "Epoch 83 Iteration 200: Loss = 1.9904272556304932\n",
      "Epoch 83 Iteration 300: Loss = 2.004047155380249\n"
     ]
    },
    {
     "name": "stderr",
     "output_type": "stream",
     "text": [
      "100%|██████████| 87/87 [00:26<00:00,  3.26it/s]\n",
      "100%|██████████| 87/87 [00:26<00:00,  3.33it/s]\n"
     ]
    },
    {
     "name": "stdout",
     "output_type": "stream",
     "text": [
      "Computing accuracy\n",
      "Test set accuracy (Precision@1) = 0.16119458356520125\n",
      "Epoch 84 Iteration 0: Loss = 1.7681660652160645\n",
      "Epoch 84 Iteration 100: Loss = 2.6826729774475098\n",
      "Epoch 84 Iteration 200: Loss = 2.809403896331787\n",
      "Epoch 84 Iteration 300: Loss = 2.122983694076538\n"
     ]
    },
    {
     "name": "stderr",
     "output_type": "stream",
     "text": [
      "100%|██████████| 87/87 [00:26<00:00,  3.32it/s]\n",
      "100%|██████████| 87/87 [00:26<00:00,  3.27it/s]\n"
     ]
    },
    {
     "name": "stdout",
     "output_type": "stream",
     "text": [
      "Computing accuracy\n",
      "Test set accuracy (Precision@1) = 0.1567427193470599\n",
      "Epoch 85 Iteration 0: Loss = 1.5313352346420288\n",
      "Epoch 85 Iteration 100: Loss = 1.8149462938308716\n",
      "Epoch 85 Iteration 200: Loss = 1.856744647026062\n",
      "Epoch 85 Iteration 300: Loss = 1.9865684509277344\n"
     ]
    },
    {
     "name": "stderr",
     "output_type": "stream",
     "text": [
      "100%|██████████| 87/87 [00:26<00:00,  3.26it/s]\n",
      "100%|██████████| 87/87 [00:27<00:00,  3.15it/s]\n"
     ]
    },
    {
     "name": "stdout",
     "output_type": "stream",
     "text": [
      "Computing accuracy\n",
      "Test set accuracy (Precision@1) = 0.1626785383045817\n",
      "Epoch 86 Iteration 0: Loss = 1.8436849117279053\n",
      "Epoch 86 Iteration 100: Loss = 1.2661247253417969\n",
      "Epoch 86 Iteration 200: Loss = 1.6387760639190674\n",
      "Epoch 86 Iteration 300: Loss = 2.070467948913574\n"
     ]
    },
    {
     "name": "stderr",
     "output_type": "stream",
     "text": [
      "100%|██████████| 87/87 [00:26<00:00,  3.24it/s]\n",
      "100%|██████████| 87/87 [00:26<00:00,  3.26it/s]\n"
     ]
    },
    {
     "name": "stdout",
     "output_type": "stream",
     "text": [
      "Computing accuracy\n",
      "Test set accuracy (Precision@1) = 0.16156557225004636\n",
      "Epoch 87 Iteration 0: Loss = 1.4155666828155518\n",
      "Epoch 87 Iteration 100: Loss = 1.9534332752227783\n",
      "Epoch 87 Iteration 200: Loss = 2.320885419845581\n",
      "Epoch 87 Iteration 300: Loss = 1.703460931777954\n"
     ]
    },
    {
     "name": "stderr",
     "output_type": "stream",
     "text": [
      "100%|██████████| 87/87 [00:27<00:00,  3.22it/s]\n",
      "100%|██████████| 87/87 [00:25<00:00,  3.35it/s]\n"
     ]
    },
    {
     "name": "stdout",
     "output_type": "stream",
     "text": [
      "Computing accuracy\n",
      "Test set accuracy (Precision@1) = 0.15933964014097568\n",
      "Epoch 88 Iteration 0: Loss = 1.2763246297836304\n",
      "Epoch 88 Iteration 100: Loss = 1.4549334049224854\n",
      "Epoch 88 Iteration 200: Loss = 1.218932867050171\n",
      "Epoch 88 Iteration 300: Loss = 2.275759220123291\n"
     ]
    },
    {
     "name": "stderr",
     "output_type": "stream",
     "text": [
      "100%|██████████| 87/87 [00:27<00:00,  3.20it/s]\n",
      "100%|██████████| 87/87 [00:26<00:00,  3.31it/s]\n"
     ]
    },
    {
     "name": "stdout",
     "output_type": "stream",
     "text": [
      "Computing accuracy\n",
      "Test set accuracy (Precision@1) = 0.15896865145613057\n",
      "Epoch 89 Iteration 0: Loss = 2.1419835090637207\n",
      "Epoch 89 Iteration 100: Loss = 1.0665262937545776\n",
      "Epoch 89 Iteration 200: Loss = 1.9020273685455322\n",
      "Epoch 89 Iteration 300: Loss = 2.1545193195343018\n"
     ]
    },
    {
     "name": "stderr",
     "output_type": "stream",
     "text": [
      "100%|██████████| 87/87 [00:25<00:00,  3.40it/s]\n",
      "100%|██████████| 87/87 [00:27<00:00,  3.22it/s]\n"
     ]
    },
    {
     "name": "stdout",
     "output_type": "stream",
     "text": [
      "Computing accuracy\n",
      "Test set accuracy (Precision@1) = 0.15822667408644037\n",
      "Epoch 90 Iteration 0: Loss = 1.5741276741027832\n",
      "Epoch 90 Iteration 100: Loss = 1.3833508491516113\n",
      "Epoch 90 Iteration 200: Loss = 1.361594557762146\n",
      "Epoch 90 Iteration 300: Loss = 1.9032725095748901\n"
     ]
    },
    {
     "name": "stderr",
     "output_type": "stream",
     "text": [
      "100%|██████████| 87/87 [00:25<00:00,  3.37it/s]\n",
      "100%|██████████| 87/87 [00:25<00:00,  3.35it/s]\n"
     ]
    },
    {
     "name": "stdout",
     "output_type": "stream",
     "text": [
      "Computing accuracy\n",
      "Test set accuracy (Precision@1) = 0.16471897607122982\n",
      "Epoch 91 Iteration 0: Loss = 2.4709348678588867\n",
      "Epoch 91 Iteration 100: Loss = 2.1101882457733154\n",
      "Epoch 91 Iteration 200: Loss = 1.374369740486145\n",
      "Epoch 91 Iteration 300: Loss = 1.5116040706634521\n"
     ]
    },
    {
     "name": "stderr",
     "output_type": "stream",
     "text": [
      "100%|██████████| 87/87 [00:26<00:00,  3.29it/s]\n",
      "100%|██████████| 87/87 [00:25<00:00,  3.38it/s]\n"
     ]
    },
    {
     "name": "stdout",
     "output_type": "stream",
     "text": [
      "Computing accuracy\n",
      "Test set accuracy (Precision@1) = 0.1617510665924689\n",
      "Epoch 92 Iteration 0: Loss = 1.109896183013916\n",
      "Epoch 92 Iteration 100: Loss = 1.9027639627456665\n",
      "Epoch 92 Iteration 200: Loss = 1.8145778179168701\n",
      "Epoch 92 Iteration 300: Loss = 1.3048360347747803\n"
     ]
    },
    {
     "name": "stderr",
     "output_type": "stream",
     "text": [
      "100%|██████████| 87/87 [00:26<00:00,  3.31it/s]\n",
      "100%|██████████| 87/87 [00:26<00:00,  3.22it/s]\n"
     ]
    },
    {
     "name": "stdout",
     "output_type": "stream",
     "text": [
      "Computing accuracy\n",
      "Test set accuracy (Precision@1) = 0.1610090892227787\n",
      "Epoch 93 Iteration 0: Loss = 0.9774476289749146\n",
      "Epoch 93 Iteration 100: Loss = 1.2170907258987427\n",
      "Epoch 93 Iteration 200: Loss = 2.07411789894104\n",
      "Epoch 93 Iteration 300: Loss = 2.135322332382202\n"
     ]
    },
    {
     "name": "stderr",
     "output_type": "stream",
     "text": [
      "100%|██████████| 87/87 [00:26<00:00,  3.24it/s]\n",
      "100%|██████████| 87/87 [00:28<00:00,  3.10it/s]\n"
     ]
    },
    {
     "name": "stdout",
     "output_type": "stream",
     "text": [
      "Computing accuracy\n",
      "Test set accuracy (Precision@1) = 0.15915414579855314\n",
      "Epoch 94 Iteration 0: Loss = 1.1366777420043945\n",
      "Epoch 94 Iteration 100: Loss = 1.2892969846725464\n",
      "Epoch 94 Iteration 200: Loss = 1.6362190246582031\n",
      "Epoch 94 Iteration 300: Loss = 1.9245960712432861\n"
     ]
    },
    {
     "name": "stderr",
     "output_type": "stream",
     "text": [
      "100%|██████████| 87/87 [00:26<00:00,  3.28it/s]\n",
      "100%|██████████| 87/87 [00:25<00:00,  3.35it/s]\n"
     ]
    },
    {
     "name": "stdout",
     "output_type": "stream",
     "text": [
      "Computing accuracy\n",
      "Test set accuracy (Precision@1) = 0.1597106288258208\n",
      "Epoch 95 Iteration 0: Loss = 1.1767945289611816\n",
      "Epoch 95 Iteration 100: Loss = 1.6036896705627441\n",
      "Epoch 95 Iteration 200: Loss = 1.5531151294708252\n",
      "Epoch 95 Iteration 300: Loss = 1.3896784782409668\n"
     ]
    },
    {
     "name": "stderr",
     "output_type": "stream",
     "text": [
      "100%|██████████| 87/87 [00:25<00:00,  3.36it/s]\n",
      "100%|██████████| 87/87 [00:26<00:00,  3.32it/s]\n"
     ]
    },
    {
     "name": "stdout",
     "output_type": "stream",
     "text": [
      "Computing accuracy\n",
      "Test set accuracy (Precision@1) = 0.16379150435911705\n",
      "Epoch 96 Iteration 0: Loss = 1.9560984373092651\n",
      "Epoch 96 Iteration 100: Loss = 1.1821849346160889\n",
      "Epoch 96 Iteration 200: Loss = 1.4818933010101318\n",
      "Epoch 96 Iteration 300: Loss = 1.9025825262069702\n"
     ]
    },
    {
     "name": "stderr",
     "output_type": "stream",
     "text": [
      "100%|██████████| 87/87 [00:25<00:00,  3.36it/s]\n",
      "100%|██████████| 87/87 [00:25<00:00,  3.42it/s]\n"
     ]
    },
    {
     "name": "stdout",
     "output_type": "stream",
     "text": [
      "Computing accuracy\n",
      "Test set accuracy (Precision@1) = 0.1617510665924689\n",
      "Epoch 97 Iteration 0: Loss = 1.3109378814697266\n",
      "Epoch 97 Iteration 100: Loss = 1.228127121925354\n",
      "Epoch 97 Iteration 200: Loss = 1.2085813283920288\n",
      "Epoch 97 Iteration 300: Loss = 1.4873195886611938\n"
     ]
    },
    {
     "name": "stderr",
     "output_type": "stream",
     "text": [
      "100%|██████████| 87/87 [00:26<00:00,  3.31it/s]\n",
      "100%|██████████| 87/87 [00:25<00:00,  3.37it/s]\n"
     ]
    },
    {
     "name": "stdout",
     "output_type": "stream",
     "text": [
      "Computing accuracy\n",
      "Test set accuracy (Precision@1) = 0.15767019105917268\n",
      "Epoch 98 Iteration 0: Loss = 1.0314898490905762\n",
      "Epoch 98 Iteration 100: Loss = 1.7391444444656372\n",
      "Epoch 98 Iteration 200: Loss = 1.6090632677078247\n",
      "Epoch 98 Iteration 300: Loss = 1.38573157787323\n"
     ]
    },
    {
     "name": "stderr",
     "output_type": "stream",
     "text": [
      "100%|██████████| 87/87 [00:26<00:00,  3.30it/s]\n",
      "100%|██████████| 87/87 [00:26<00:00,  3.29it/s]\n"
     ]
    },
    {
     "name": "stdout",
     "output_type": "stream",
     "text": [
      "Computing accuracy\n",
      "Test set accuracy (Precision@1) = 0.16026711185308848\n",
      "Epoch 99 Iteration 0: Loss = 1.0618994235992432\n",
      "Epoch 99 Iteration 100: Loss = 1.245194673538208\n",
      "Epoch 99 Iteration 200: Loss = 1.4549775123596191\n",
      "Epoch 99 Iteration 300: Loss = 1.3568110466003418\n"
     ]
    },
    {
     "name": "stderr",
     "output_type": "stream",
     "text": [
      "100%|██████████| 87/87 [00:25<00:00,  3.36it/s]\n",
      "100%|██████████| 87/87 [00:25<00:00,  3.36it/s]\n"
     ]
    },
    {
     "name": "stdout",
     "output_type": "stream",
     "text": [
      "Computing accuracy\n",
      "Test set accuracy (Precision@1) = 0.1597106288258208\n",
      "Epoch 100 Iteration 0: Loss = 1.2144787311553955\n",
      "Epoch 100 Iteration 100: Loss = 1.7257983684539795\n",
      "Epoch 100 Iteration 200: Loss = 1.1487399339675903\n",
      "Epoch 100 Iteration 300: Loss = 1.3426334857940674\n"
     ]
    },
    {
     "name": "stderr",
     "output_type": "stream",
     "text": [
      "100%|██████████| 87/87 [00:26<00:00,  3.25it/s]\n",
      "100%|██████████| 87/87 [00:27<00:00,  3.18it/s]\n"
     ]
    },
    {
     "name": "stdout",
     "output_type": "stream",
     "text": [
      "Computing accuracy\n",
      "Test set accuracy (Precision@1) = 0.16304952698942682\n"
     ]
    }
   ],
   "source": [
    "for epoch in range(1, num_epochs + 1):\n",
    "    train(model, loss_func, device, train_loader, optimizer, loss_optimizer, epoch)\n",
    "    test(query_dataset, retrieval_dataset, model, accuracy_calculator)"
   ]
  },
  {
   "cell_type": "code",
   "execution_count": 26,
   "metadata": {},
   "outputs": [],
   "source": [
    "torch.save(model, 'model.pth')"
   ]
  },
  {
   "cell_type": "code",
   "execution_count": 30,
   "metadata": {},
   "outputs": [
    {
     "data": {
      "text/plain": [
       "(25183, 3458)"
      ]
     },
     "execution_count": 30,
     "metadata": {},
     "output_type": "execute_result"
    }
   ],
   "source": [
    "len(train_dataset), num_classes_train"
   ]
  },
  {
   "cell_type": "code",
   "execution_count": 31,
   "metadata": {},
   "outputs": [
    {
     "data": {
      "text/plain": [
       "5534"
      ]
     },
     "execution_count": 31,
     "metadata": {},
     "output_type": "execute_result"
    }
   ],
   "source": [
    "len(query_dataset)"
   ]
  },
  {
   "cell_type": "code",
   "execution_count": 32,
   "metadata": {},
   "outputs": [
    {
     "data": {
      "text/plain": [
       "5533"
      ]
     },
     "execution_count": 32,
     "metadata": {},
     "output_type": "execute_result"
    }
   ],
   "source": [
    "len(retrieval_dataset)"
   ]
  },
  {
   "cell_type": "code",
   "execution_count": null,
   "metadata": {},
   "outputs": [],
   "source": []
  }
 ],
 "metadata": {
  "kernelspec": {
   "display_name": "Python 3",
   "language": "python",
   "name": "python3"
  },
  "language_info": {
   "codemirror_mode": {
    "name": "ipython",
    "version": 3
   },
   "file_extension": ".py",
   "mimetype": "text/x-python",
   "name": "python",
   "nbconvert_exporter": "python",
   "pygments_lexer": "ipython3",
   "version": "3.8.0"
  },
  "orig_nbformat": 4
 },
 "nbformat": 4,
 "nbformat_minor": 2
}
